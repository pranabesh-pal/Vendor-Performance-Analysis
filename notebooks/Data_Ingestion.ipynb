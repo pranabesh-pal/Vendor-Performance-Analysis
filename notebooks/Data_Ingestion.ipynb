{
 "cells": [
  {
   "cell_type": "code",
   "execution_count": 1,
   "id": "32705d84-3627-4f52-86ec-0ffbb195140c",
   "metadata": {},
   "outputs": [
    {
     "name": "stdout",
     "output_type": "stream",
     "text": [
      "Loading begin_inventory.csv into table `begin_inventory`...\n",
      "Loading end_inventory.csv into table `end_inventory`...\n",
      "Loading purchases.csv into table `purchases`...\n",
      "Loading purchase_prices.csv into table `purchase_prices`...\n",
      "Loading sales.csv into table `sales`...\n",
      "Loading vendor_invoice.csv into table `vendor_invoice`...\n",
      "✅ All CSVs loaded successfully!\n"
     ]
    }
   ],
   "source": [
    "import pandas as pd\n",
    "from sqlalchemy import create_engine\n",
    "import os\n",
    "\n",
    "# ----------------------------\n",
    "# Database connection details\n",
    "# ----------------------------\n",
    "username = \"root\"        # your MySQL username\n",
    "password = \"SQL1234\"   # your MySQL password\n",
    "host = \"127.0.0.1\"       # or 127.0.0.1\n",
    "database = \"vendor_analysis\"\n",
    "\n",
    "# Create connection engine\n",
    "engine = create_engine(f\"mysql+pymysql://{username}:{password}@{host}/{database}\")\n",
    "\n",
    "# ----------------------------\n",
    "# Path where your CSV files are stored\n",
    "# ----------------------------\n",
    "csv_folder = r\"X:\\00 Portfolio Projects\\Vendor Analysis\\Raw Data\\data\"\n",
    "\n",
    "# Get all CSV files in the folder\n",
    "csv_files = [f for f in os.listdir(csv_folder) if f.endswith(\".csv\")]\n",
    "\n",
    "# ----------------------------\n",
    "# Load each CSV into MySQL\n",
    "# ----------------------------\n",
    "for file in csv_files:\n",
    "    file_path = os.path.join(csv_folder, file)\n",
    "    table_name = os.path.splitext(file)[0]  # use filename (without .csv) as table name\n",
    "    \n",
    "    print(f\"Loading {file} into table `{table_name}`...\")\n",
    "\n",
    "    # Read CSV\n",
    "    df = pd.read_csv(file_path)\n",
    "\n",
    "    # Write to MySQL (replace = drops table if exists, use append to add data)\n",
    "    df.to_sql(table_name, engine, index=False, if_exists=\"replace\")\n",
    "\n",
    "print(\"✅ All CSVs loaded successfully!\")\n"
   ]
  }
 ],
 "metadata": {
  "kernelspec": {
   "display_name": "Python 3 (ipykernel)",
   "language": "python",
   "name": "python3"
  },
  "language_info": {
   "codemirror_mode": {
    "name": "ipython",
    "version": 3
   },
   "file_extension": ".py",
   "mimetype": "text/x-python",
   "name": "python",
   "nbconvert_exporter": "python",
   "pygments_lexer": "ipython3",
   "version": "3.13.5"
  }
 },
 "nbformat": 4,
 "nbformat_minor": 5
}
